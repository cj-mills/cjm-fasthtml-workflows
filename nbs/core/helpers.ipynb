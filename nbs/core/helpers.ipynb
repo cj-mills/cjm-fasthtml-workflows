{
 "cells": [
  {
   "cell_type": "markdown",
   "id": "b6703dcb",
   "metadata": {},
   "source": [
    "# Helpers\n",
    "\n",
    "> Helper functions for common workflow patterns."
   ]
  },
  {
   "cell_type": "code",
   "execution_count": null,
   "id": "896abc01",
   "metadata": {},
   "outputs": [],
   "source": [
    "#| default_exp core.helpers"
   ]
  },
  {
   "cell_type": "code",
   "execution_count": null,
   "id": "a7da383f",
   "metadata": {},
   "outputs": [],
   "source": [
    "#| hide\n",
    "from nbdev.showdoc import *"
   ]
  },
  {
   "cell_type": "code",
   "execution_count": null,
   "id": "62d32f84",
   "metadata": {},
   "outputs": [],
   "source": [
    "#| export\n",
    "from typing import Dict, Any, Optional, Callable, Tuple\n",
    "\n",
    "from cjm_fasthtml_workflows.core.job_session import JobSessionManager\n",
    "from cjm_fasthtml_workflows.core.deduplication import DeduplicationTracker"
   ]
  },
  {
   "cell_type": "markdown",
   "id": "6fb21674",
   "metadata": {},
   "source": [
    "## Helper Functions"
   ]
  },
  {
   "cell_type": "markdown",
   "id": "1h86zy0xwms",
   "metadata": {},
   "source": [
    "These helper functions provide convenient patterns for common workflow operations."
   ]
  },
  {
   "cell_type": "markdown",
   "id": "4d960a01",
   "metadata": {},
   "source": [
    "### get_job_session_info"
   ]
  },
  {
   "cell_type": "markdown",
   "id": "76d8e40e",
   "metadata": {},
   "source": [
    "Retrieve job-related display information from session with fallbacks to job attributes."
   ]
  },
  {
   "cell_type": "code",
   "execution_count": null,
   "id": "11e4f53d",
   "metadata": {},
   "outputs": [],
   "source": [
    "#| export\n",
    "def get_job_session_info(\n",
    "    job_id:str, # Unique job identifier\n",
    "    job:Any, # Job object (should have attributes like file_name, file_path, plugin_id)\n",
    "    sess:Any, # FastHTML session object\n",
    "    fallback_fields:Optional[Dict[str, Any]]=None # Optional additional fallback fields\n",
    ") -> Tuple[Dict[str, Any], Dict[str, Any]]: # (file_info, plugin_info) dictionaries\n",
    "    \"\"\"Retrieve job-related display information from session with fallbacks.\"\"\"\n",
    "    if fallback_fields is None:\n",
    "        fallback_fields = {}\n",
    "\n",
    "    job_sess = JobSessionManager(sess)\n",
    "    job_metadata = job_sess.get_job_metadata(job_id, {})\n",
    "\n",
    "    # File info with fallbacks\n",
    "    file_info = job_metadata.get(\"file_info\", {})\n",
    "    if not file_info:\n",
    "        file_info = {\n",
    "            \"name\": getattr(job, \"file_name\", \"unknown\"),\n",
    "            \"path\": getattr(job, \"file_path\", \"\"),\n",
    "            **fallback_fields.get(\"file_info\", {})\n",
    "        }\n",
    "\n",
    "    # Plugin info with fallbacks\n",
    "    plugin_info = job_metadata.get(\"plugin_info\", {})\n",
    "    if not plugin_info:\n",
    "        plugin_info = {\n",
    "            \"title\": getattr(job, \"plugin_id\", \"unknown\"),\n",
    "            \"id\": getattr(job, \"plugin_id\", \"unknown\"),\n",
    "            **fallback_fields.get(\"plugin_info\", {})\n",
    "        }\n",
    "\n",
    "    return file_info, plugin_info"
   ]
  },
  {
   "cell_type": "markdown",
   "id": "69oumpgd6nu",
   "metadata": {},
   "source": [
    "#### Example: get_job_session_info"
   ]
  },
  {
   "cell_type": "code",
   "execution_count": null,
   "id": "qgqdq1o27p",
   "metadata": {},
   "outputs": [
    {
     "name": "stdout",
     "output_type": "stream",
     "text": [
      "File info: {'name': 'audio.mp3', 'path': '/media/audio.mp3', 'size': 5000}\n",
      "Plugin info: {'title': 'Whisper Large', 'id': 'whisper_large', 'version': '3.0'}\n"
     ]
    }
   ],
   "source": [
    "from cjm_fasthtml_workflows.core.job_session import JobSessionManager\n",
    "\n",
    "# Create mock job object\n",
    "class MockJob:\n",
    "    def __init__(self, job_id, file_name, file_path, plugin_id):\n",
    "        self.id = job_id\n",
    "        self.file_name = file_name\n",
    "        self.file_path = file_path\n",
    "        self.plugin_id = plugin_id\n",
    "\n",
    "# Create session with stored metadata\n",
    "session = {}\n",
    "job_sess = JobSessionManager(session)\n",
    "job_sess.store_job_metadata(\"job-123\", {\n",
    "    \"file_info\": {\"name\": \"audio.mp3\", \"path\": \"/media/audio.mp3\", \"size\": 5000},\n",
    "    \"plugin_info\": {\"title\": \"Whisper Large\", \"id\": \"whisper_large\", \"version\": \"3.0\"}\n",
    "})\n",
    "\n",
    "# Create mock job\n",
    "job = MockJob(\"job-123\", \"fallback.mp3\", \"/fallback/path\", \"fallback_plugin\")\n",
    "\n",
    "# Get info (should use session data, not fallback)\n",
    "file_info, plugin_info = get_job_session_info(\"job-123\", job, session)\n",
    "print(\"File info:\", file_info)\n",
    "print(\"Plugin info:\", plugin_info)"
   ]
  },
  {
   "cell_type": "code",
   "execution_count": null,
   "id": "0uz7a9u6rp3",
   "metadata": {},
   "outputs": [
    {
     "name": "stdout",
     "output_type": "stream",
     "text": [
      "\n",
      "File info (from job attrs): {'name': 'meeting.mp3', 'path': '/media/meeting.mp3'}\n",
      "Plugin info (from job attrs): {'title': 'whisper_base', 'id': 'whisper_base'}\n"
     ]
    }
   ],
   "source": [
    "# Test with no session metadata (uses job attributes as fallback)\n",
    "empty_session = {}\n",
    "job2 = MockJob(\"job-456\", \"meeting.mp3\", \"/media/meeting.mp3\", \"whisper_base\")\n",
    "\n",
    "file_info2, plugin_info2 = get_job_session_info(\"job-456\", job2, empty_session)\n",
    "print(\"\\nFile info (from job attrs):\", file_info2)\n",
    "print(\"Plugin info (from job attrs):\", plugin_info2)"
   ]
  },
  {
   "cell_type": "code",
   "execution_count": null,
   "id": "9e16cc3f",
   "metadata": {},
   "outputs": [
    {
     "name": "stdout",
     "output_type": "stream",
     "text": [
      "\n",
      "File info (with extra fallbacks): {'name': 'meeting.mp3', 'path': '/media/meeting.mp3', 'format': 'mp3', 'duration': 120}\n",
      "Plugin info (with extra fallbacks): {'title': 'whisper_base', 'id': 'whisper_base', 'provider': 'OpenAI'}\n"
     ]
    }
   ],
   "source": [
    "# Test with additional fallback fields\n",
    "file_info3, plugin_info3 = get_job_session_info(\n",
    "    \"job-789\", \n",
    "    job2, \n",
    "    empty_session,\n",
    "    fallback_fields={\n",
    "        \"file_info\": {\"format\": \"mp3\", \"duration\": 120},\n",
    "        \"plugin_info\": {\"provider\": \"OpenAI\"}\n",
    "    }\n",
    ")\n",
    "print(\"\\nFile info (with extra fallbacks):\", file_info3)\n",
    "print(\"Plugin info (with extra fallbacks):\", plugin_info3)"
   ]
  },
  {
   "cell_type": "markdown",
   "id": "m8soprrlcf8",
   "metadata": {},
   "source": [
    "### once_per_job"
   ]
  },
  {
   "cell_type": "markdown",
   "id": "3a8c56f3",
   "metadata": {},
   "source": [
    "Execute an operation once per job using automatic deduplication."
   ]
  },
  {
   "cell_type": "code",
   "execution_count": null,
   "id": "5ad50uqtxtc",
   "metadata": {},
   "outputs": [],
   "source": [
    "#| export\n",
    "def once_per_job(\n",
    "    sess:Any, # FastHTML session object\n",
    "    job_id:str, # Unique job identifier\n",
    "    operation:Callable[[], Any], # Callable to execute (should take no arguments)\n",
    "    tracker_id:str=\"default_operation\" # Unique identifier for this operation type\n",
    ") -> Optional[Any]: # Result of operation if executed, None if already processed\n",
    "    \"\"\"Execute an operation once per job using automatic deduplication.\"\"\"\n",
    "    tracker = DeduplicationTracker(sess, tracker_id)\n",
    "\n",
    "    if tracker.is_processed(job_id):\n",
    "        return None\n",
    "\n",
    "    try:\n",
    "        result = operation()\n",
    "        tracker.mark_processed(job_id)\n",
    "        return result\n",
    "    except Exception as e:\n",
    "        # Don't mark as processed if operation failed\n",
    "        raise e"
   ]
  },
  {
   "cell_type": "markdown",
   "id": "ae2b423b",
   "metadata": {},
   "source": [
    "#### Example: once_per_job"
   ]
  },
  {
   "cell_type": "code",
   "execution_count": null,
   "id": "kyhwvvcbuvp",
   "metadata": {},
   "outputs": [
    {
     "name": "stdout",
     "output_type": "stream",
     "text": [
      "Call 1:\n",
      "  [SAVE] Saving job-abc: {'text': 'Hello'}\n",
      "  Result: Saved job-abc\n",
      "\n",
      "Call 2 (duplicate):\n",
      "  Result: None\n",
      "\n",
      "Total save operations: 1\n"
     ]
    }
   ],
   "source": [
    "# Simulate a session\n",
    "session = {}\n",
    "\n",
    "# Counter to track how many times operation is executed\n",
    "execution_count = {'save': 0, 'notify': 0}\n",
    "\n",
    "def save_to_disk(job_id, data):\n",
    "    execution_count['save'] += 1\n",
    "    print(f\"  [SAVE] Saving {job_id}: {data}\")\n",
    "    return f\"Saved {job_id}\"\n",
    "\n",
    "def send_notification(job_id):\n",
    "    execution_count['notify'] += 1\n",
    "    print(f\"  [NOTIFY] Sending email for {job_id}\")\n",
    "    return f\"Notified for {job_id}\"\n",
    "\n",
    "# First call - should execute\n",
    "print(\"Call 1:\")\n",
    "result1 = once_per_job(\n",
    "    session, \"job-abc\",\n",
    "    lambda: save_to_disk(\"job-abc\", {\"text\": \"Hello\"}),\n",
    "    tracker_id=\"save_operation\"\n",
    ")\n",
    "print(f\"  Result: {result1}\")\n",
    "\n",
    "# Second call - should skip\n",
    "print(\"\\nCall 2 (duplicate):\")\n",
    "result2 = once_per_job(\n",
    "    session, \"job-abc\",\n",
    "    lambda: save_to_disk(\"job-abc\", {\"text\": \"Hello\"}),\n",
    "    tracker_id=\"save_operation\"\n",
    ")\n",
    "print(f\"  Result: {result2}\")\n",
    "\n",
    "print(f\"\\nTotal save operations: {execution_count['save']}\")"
   ]
  },
  {
   "cell_type": "code",
   "execution_count": null,
   "id": "3j2qcvb3ha2",
   "metadata": {},
   "outputs": [
    {
     "name": "stdout",
     "output_type": "stream",
     "text": [
      "\n",
      "Multiple operations for job-abc:\n",
      "  [NOTIFY] Sending email for job-abc\n",
      "\n",
      "Total operations:\n",
      "  Saves: 1\n",
      "  Notifications: 1\n",
      "\n",
      "Session state:\n"
     ]
    },
    {
     "data": {
      "text/plain": [
       "{'dedup_save_operation': ['job-abc'],\n",
       " 'dedup_notification_operation': ['job-abc']}"
      ]
     },
     "execution_count": null,
     "metadata": {},
     "output_type": "execute_result"
    }
   ],
   "source": [
    "# Multiple operations for same job\n",
    "print(\"\\nMultiple operations for job-abc:\")\n",
    "\n",
    "# Save operation (already done, will skip)\n",
    "once_per_job(\n",
    "    session, \"job-abc\",\n",
    "    lambda: save_to_disk(\"job-abc\", {\"text\": \"Hello\"}),\n",
    "    tracker_id=\"save_operation\"\n",
    ")\n",
    "\n",
    "# Notification (first time, will execute)\n",
    "once_per_job(\n",
    "    session, \"job-abc\",\n",
    "    lambda: send_notification(\"job-abc\"),\n",
    "    tracker_id=\"notification_operation\"\n",
    ")\n",
    "\n",
    "# Notification again (duplicate, will skip)\n",
    "once_per_job(\n",
    "    session, \"job-abc\",\n",
    "    lambda: send_notification(\"job-abc\"),\n",
    "    tracker_id=\"notification_operation\"\n",
    ")\n",
    "\n",
    "print(f\"\\nTotal operations:\")\n",
    "print(f\"  Saves: {execution_count['save']}\")\n",
    "print(f\"  Notifications: {execution_count['notify']}\")\n",
    "print(f\"\\nSession state:\")\n",
    "session"
   ]
  },
  {
   "cell_type": "code",
   "execution_count": null,
   "id": "7f54d57c",
   "metadata": {},
   "outputs": [
    {
     "name": "stdout",
     "output_type": "stream",
     "text": [
      "\n",
      "Testing error handling:\n",
      "  [ERROR] Operation failed!\n",
      "  Caught error: Simulated error\n",
      "\n",
      "Job-xyz marked as processed: False\n",
      "(False means we can retry the operation)\n"
     ]
    }
   ],
   "source": [
    "# Error handling - operation fails, not marked as processed\n",
    "def failing_operation():\n",
    "    print(\"  [ERROR] Operation failed!\")\n",
    "    raise ValueError(\"Simulated error\")\n",
    "\n",
    "print(\"\\nTesting error handling:\")\n",
    "try:\n",
    "    once_per_job(\n",
    "        session, \"job-xyz\",\n",
    "        failing_operation,\n",
    "        tracker_id=\"save_operation\"\n",
    "    )\n",
    "except ValueError as e:\n",
    "    print(f\"  Caught error: {e}\")\n",
    "\n",
    "# Check if job was marked as processed (it shouldn't be)\n",
    "tracker = DeduplicationTracker(session, \"save_operation\")\n",
    "print(f\"\\nJob-xyz marked as processed: {tracker.is_processed('job-xyz')}\")\n",
    "print(\"(False means we can retry the operation)\")"
   ]
  },
  {
   "cell_type": "code",
   "execution_count": null,
   "id": "lme8w339qj",
   "metadata": {},
   "outputs": [],
   "source": []
  },
  {
   "cell_type": "code",
   "execution_count": null,
   "id": "8f3fa35d",
   "metadata": {},
   "outputs": [],
   "source": []
  },
  {
   "cell_type": "code",
   "execution_count": null,
   "id": "41446942",
   "metadata": {},
   "outputs": [],
   "source": []
  },
  {
   "cell_type": "code",
   "execution_count": null,
   "id": "de63eaf7",
   "metadata": {},
   "outputs": [],
   "source": []
  },
  {
   "cell_type": "code",
   "execution_count": null,
   "id": "4acda558",
   "metadata": {},
   "outputs": [],
   "source": []
  },
  {
   "cell_type": "code",
   "execution_count": null,
   "id": "b4beb604",
   "metadata": {},
   "outputs": [],
   "source": []
  },
  {
   "cell_type": "code",
   "execution_count": null,
   "id": "d31a897b",
   "metadata": {},
   "outputs": [],
   "source": []
  },
  {
   "cell_type": "code",
   "execution_count": null,
   "id": "7a9d3a4f",
   "metadata": {},
   "outputs": [],
   "source": [
    "#| hide\n",
    "import nbdev; nbdev.nbdev_export()"
   ]
  }
 ],
 "metadata": {
  "kernelspec": {
   "display_name": "python3",
   "language": "python",
   "name": "python3"
  }
 },
 "nbformat": 4,
 "nbformat_minor": 5
}
