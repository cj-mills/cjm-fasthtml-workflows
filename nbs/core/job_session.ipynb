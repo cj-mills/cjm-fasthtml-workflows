{
 "cells": [
  {
   "cell_type": "markdown",
   "id": "b6703dcb",
   "metadata": {},
   "source": [
    "# JobSessionManager\n",
    "\n",
    "> Manage job-related metadata that needs to be accessed across multiple requests."
   ]
  },
  {
   "cell_type": "code",
   "execution_count": null,
   "id": "896abc01",
   "metadata": {},
   "outputs": [],
   "source": [
    "#| default_exp core.job_session"
   ]
  },
  {
   "cell_type": "code",
   "execution_count": null,
   "id": "a7da383f",
   "metadata": {},
   "outputs": [],
   "source": [
    "#| hide\n",
    "from nbdev.showdoc import *"
   ]
  },
  {
   "cell_type": "code",
   "execution_count": null,
   "id": "62d32f84",
   "metadata": {},
   "outputs": [],
   "source": [
    "#| export\n",
    "from typing import Dict, Any, Optional"
   ]
  },
  {
   "cell_type": "markdown",
   "id": "6fb21674",
   "metadata": {},
   "source": [
    "## JobSessionManager Class"
   ]
  },
  {
   "cell_type": "markdown",
   "id": "1h86zy0xwms",
   "metadata": {},
   "source": [
    "The `JobSessionManager` bridges the gap between job execution (managed by job managers) and presentation logic (in route handlers) by storing display-related metadata in the user's session.\n",
    "\n",
    "This is useful when:\n",
    "- Job managers handle execution but don't track UI-specific data\n",
    "- You need to preserve user-selected options for displaying job results\n",
    "- Multiple routes need to access the same job display information"
   ]
  },
  {
   "cell_type": "code",
   "execution_count": null,
   "id": "4d960a01",
   "metadata": {},
   "outputs": [],
   "source": [
    "#| export\n",
    "class JobSessionManager:\n",
    "    \"\"\"Manage job-related metadata that needs to be accessed across multiple requests.\"\"\"\n",
    "\n",
    "    def __init__(\n",
    "        self, \n",
    "        sess:Any, # FastHTML session object\n",
    "        prefix:str=\"job\" # Prefix for job keys in session\n",
    "    ):\n",
    "        \"\"\"Initialize job session manager.\"\"\"\n",
    "        self.sess = sess\n",
    "        self.prefix = prefix\n",
    "\n",
    "    def _make_job_key(\n",
    "        self, \n",
    "        job_id:str # Unique job identifier\n",
    "    ) -> str: # Session key for job metadata\n",
    "        \"\"\"Create session key for job metadata.\"\"\"\n",
    "        return f\"{self.prefix}_{job_id}\"\n",
    "\n",
    "    def store_job_metadata(\n",
    "        self, \n",
    "        job_id:str, # Unique job identifier\n",
    "        metadata:Dict[str, Any] # Dictionary of metadata to store\n",
    "    ) -> None:\n",
    "        \"\"\"Store metadata for a job.\"\"\"\n",
    "        self.sess[self._make_job_key(job_id)] = metadata\n",
    "\n",
    "    def get_job_metadata(\n",
    "        self, \n",
    "        job_id:str, # Unique job identifier\n",
    "        default:Optional[Dict[str, Any]]=None # Default value if metadata not found\n",
    "    ) -> Dict[str, Any]: # Job metadata dictionary\n",
    "        \"\"\"Retrieve metadata for a job.\"\"\"\n",
    "        if default is None:\n",
    "            default = {}\n",
    "        return self.sess.get(self._make_job_key(job_id), default)\n",
    "\n",
    "    def delete_job_metadata(\n",
    "        self, \n",
    "        job_id:str # Unique job identifier\n",
    "    ) -> None:\n",
    "        \"\"\"Remove metadata for a job.\"\"\"\n",
    "        key = self._make_job_key(job_id)\n",
    "        if key in self.sess:\n",
    "            del self.sess[key]\n",
    "\n",
    "    def clear_all_jobs(self) -> None:\n",
    "        \"\"\"Clear all job metadata from session.\"\"\"\n",
    "        keys_to_delete = [k for k in self.sess.keys() if k.startswith(f\"{self.prefix}_\")]\n",
    "        for key in keys_to_delete:\n",
    "            del self.sess[key]"
   ]
  },
  {
   "cell_type": "markdown",
   "id": "81c4b37e",
   "metadata": {},
   "source": [
    "## Usage Examples"
   ]
  },
  {
   "cell_type": "markdown",
   "id": "xn358bza8xr",
   "metadata": {},
   "source": [
    "These examples show how to use `JobSessionManager` to store and retrieve job-related metadata across different requests."
   ]
  },
  {
   "cell_type": "code",
   "execution_count": null,
   "id": "11e4f53d",
   "metadata": {},
   "outputs": [
    {
     "data": {
      "text/plain": [
       "<__main__.JobSessionManager>"
      ]
     },
     "execution_count": null,
     "metadata": {},
     "output_type": "execute_result"
    }
   ],
   "source": [
    "# Create a mock session\n",
    "mock_session = {}\n",
    "\n",
    "# Create job session manager\n",
    "job_sess = JobSessionManager(mock_session)\n",
    "job_sess"
   ]
  },
  {
   "cell_type": "code",
   "execution_count": null,
   "id": "69oumpgd6nu",
   "metadata": {},
   "outputs": [
    {
     "data": {
      "text/plain": [
       "{'job_job-123': {'file_info': {'name': 'interview.mp3',\n",
       "   'path': '/media/audio/interview.mp3',\n",
       "   'size': 1024000},\n",
       "  'plugin_info': {'id': 'whisper_large',\n",
       "   'title': 'Whisper Large',\n",
       "   'version': '3.0'},\n",
       "  'user_preferences': {'language': 'en', 'format': 'srt'}}}"
      ]
     },
     "execution_count": null,
     "metadata": {},
     "output_type": "execute_result"
    }
   ],
   "source": [
    "# Store metadata for a transcription job\n",
    "job_sess.store_job_metadata(\"job-123\", {\n",
    "    \"file_info\": {\n",
    "        \"name\": \"interview.mp3\",\n",
    "        \"path\": \"/media/audio/interview.mp3\",\n",
    "        \"size\": 1024000\n",
    "    },\n",
    "    \"plugin_info\": {\n",
    "        \"id\": \"whisper_large\",\n",
    "        \"title\": \"Whisper Large\",\n",
    "        \"version\": \"3.0\"\n",
    "    },\n",
    "    \"user_preferences\": {\n",
    "        \"language\": \"en\",\n",
    "        \"format\": \"srt\"\n",
    "    }\n",
    "})\n",
    "\n",
    "# Show the session\n",
    "mock_session"
   ]
  },
  {
   "cell_type": "code",
   "execution_count": null,
   "id": "qgqdq1o27p",
   "metadata": {},
   "outputs": [
    {
     "name": "stdout",
     "output_type": "stream",
     "text": [
      "File: interview.mp3\n",
      "Plugin: Whisper Large\n",
      "Language: en\n"
     ]
    }
   ],
   "source": [
    "# Retrieve job metadata\n",
    "metadata = job_sess.get_job_metadata(\"job-123\")\n",
    "print(f\"File: {metadata['file_info']['name']}\")\n",
    "print(f\"Plugin: {metadata['plugin_info']['title']}\")\n",
    "print(f\"Language: {metadata['user_preferences']['language']}\")"
   ]
  },
  {
   "cell_type": "code",
   "execution_count": null,
   "id": "0uz7a9u6rp3",
   "metadata": {},
   "outputs": [
    {
     "name": "stdout",
     "output_type": "stream",
     "text": [
      "Session now contains multiple jobs:\n"
     ]
    },
    {
     "data": {
      "text/plain": [
       "{'job_job-123': {'file_info': {'name': 'interview.mp3',\n",
       "   'path': '/media/audio/interview.mp3',\n",
       "   'size': 1024000},\n",
       "  'plugin_info': {'id': 'whisper_large',\n",
       "   'title': 'Whisper Large',\n",
       "   'version': '3.0'},\n",
       "  'user_preferences': {'language': 'en', 'format': 'srt'}},\n",
       " 'job_job-456': {'file_info': {'name': 'podcast.mp3'},\n",
       "  'plugin_info': {'title': 'Faster Whisper'}},\n",
       " 'job_job-789': {'file_info': {'name': 'lecture.mp4'},\n",
       "  'plugin_info': {'title': 'Voxtral'}}}"
      ]
     },
     "execution_count": null,
     "metadata": {},
     "output_type": "execute_result"
    }
   ],
   "source": [
    "# Store metadata for multiple jobs\n",
    "job_sess.store_job_metadata(\"job-456\", {\n",
    "    \"file_info\": {\"name\": \"podcast.mp3\"},\n",
    "    \"plugin_info\": {\"title\": \"Faster Whisper\"}\n",
    "})\n",
    "\n",
    "job_sess.store_job_metadata(\"job-789\", {\n",
    "    \"file_info\": {\"name\": \"lecture.mp4\"},\n",
    "    \"plugin_info\": {\"title\": \"Voxtral\"}\n",
    "})\n",
    "\n",
    "print(\"Session now contains multiple jobs:\")\n",
    "mock_session"
   ]
  },
  {
   "cell_type": "code",
   "execution_count": null,
   "id": "9e16cc3f",
   "metadata": {},
   "outputs": [
    {
     "data": {
      "text/plain": [
       "{'error': 'Not found'}"
      ]
     },
     "execution_count": null,
     "metadata": {},
     "output_type": "execute_result"
    }
   ],
   "source": [
    "# Get metadata for non-existent job with default\n",
    "missing_metadata = job_sess.get_job_metadata(\"job-999\", default={\"error\": \"Not found\"})\n",
    "missing_metadata"
   ]
  },
  {
   "cell_type": "code",
   "execution_count": null,
   "id": "m8soprrlcf8",
   "metadata": {},
   "outputs": [
    {
     "name": "stdout",
     "output_type": "stream",
     "text": [
      "After deleting job-456:\n"
     ]
    },
    {
     "data": {
      "text/plain": [
       "{'job_job-123': {'file_info': {'name': 'interview.mp3',\n",
       "   'path': '/media/audio/interview.mp3',\n",
       "   'size': 1024000},\n",
       "  'plugin_info': {'id': 'whisper_large',\n",
       "   'title': 'Whisper Large',\n",
       "   'version': '3.0'},\n",
       "  'user_preferences': {'language': 'en', 'format': 'srt'}},\n",
       " 'job_job-789': {'file_info': {'name': 'lecture.mp4'},\n",
       "  'plugin_info': {'title': 'Voxtral'}}}"
      ]
     },
     "execution_count": null,
     "metadata": {},
     "output_type": "execute_result"
    }
   ],
   "source": [
    "# Delete specific job metadata\n",
    "job_sess.delete_job_metadata(\"job-456\")\n",
    "print(\"After deleting job-456:\")\n",
    "mock_session"
   ]
  },
  {
   "cell_type": "code",
   "execution_count": null,
   "id": "3a8c56f3",
   "metadata": {},
   "outputs": [
    {
     "name": "stdout",
     "output_type": "stream",
     "text": [
      "After clearing all jobs:\n"
     ]
    },
    {
     "data": {
      "text/plain": [
       "{}"
      ]
     },
     "execution_count": null,
     "metadata": {},
     "output_type": "execute_result"
    }
   ],
   "source": [
    "# Clear all job metadata\n",
    "job_sess.clear_all_jobs()\n",
    "print(\"After clearing all jobs:\")\n",
    "mock_session"
   ]
  },
  {
   "cell_type": "code",
   "execution_count": null,
   "id": "5ad50uqtxtc",
   "metadata": {},
   "outputs": [
    {
     "data": {
      "text/plain": [
       "{'processing_task-001': {'status': 'running'}}"
      ]
     },
     "execution_count": null,
     "metadata": {},
     "output_type": "execute_result"
    }
   ],
   "source": [
    "# Example: Using with custom prefix\n",
    "processing_sess = JobSessionManager({}, prefix=\"processing\")\n",
    "processing_sess.store_job_metadata(\"task-001\", {\"status\": \"running\"})\n",
    "\n",
    "# Notice the different key prefix\n",
    "processing_sess.sess"
   ]
  },
  {
   "cell_type": "markdown",
   "id": "ae2b423b",
   "metadata": {},
   "source": [
    "## Real-World Usage Pattern"
   ]
  },
  {
   "cell_type": "markdown",
   "id": "kyhwvvcbuvp",
   "metadata": {},
   "source": [
    "Here's a typical pattern showing how job metadata flows through a multi-step process:"
   ]
  },
  {
   "cell_type": "code",
   "execution_count": null,
   "id": "3j2qcvb3ha2",
   "metadata": {},
   "outputs": [
    {
     "name": "stdout",
     "output_type": "stream",
     "text": [
      "=== Simulated Workflow ===\n",
      "Job job-abc started with meeting.mp3\n",
      "Monitoring job job-abc: meeting.mp3 using Whisper\n",
      "Results for meeting.mp3\n",
      "Processed by: Whisper\n",
      "Started: 2025-01-01T00:00:00\n",
      "\n",
      "Session state:\n"
     ]
    },
    {
     "data": {
      "text/plain": [
       "{'job_job-abc': {'file_info': {'name': 'meeting.mp3'},\n",
       "  'plugin_info': {'title': 'Whisper'},\n",
       "  'started_at': '2025-01-01T00:00:00'}}"
      ]
     },
     "execution_count": null,
     "metadata": {},
     "output_type": "execute_result"
    }
   ],
   "source": [
    "# Simulating a workflow across multiple routes\n",
    "session = {}\n",
    "job_manager = JobSessionManager(session)\n",
    "\n",
    "# Step 1: User starts a job\n",
    "def start_job_route(job_id, file_name, plugin_title):\n",
    "    job_manager.store_job_metadata(job_id, {\n",
    "        \"file_info\": {\"name\": file_name},\n",
    "        \"plugin_info\": {\"title\": plugin_title},\n",
    "        \"started_at\": \"2025-01-01T00:00:00\"\n",
    "    })\n",
    "    print(f\"Job {job_id} started with {file_name}\")\n",
    "\n",
    "# Step 2: Monitor job progress\n",
    "def monitor_job_route(job_id):\n",
    "    metadata = job_manager.get_job_metadata(job_id)\n",
    "    if metadata:\n",
    "        print(f\"Monitoring job {job_id}: {metadata['file_info']['name']} using {metadata['plugin_info']['title']}\")\n",
    "    else:\n",
    "        print(f\"Job {job_id} not found\")\n",
    "\n",
    "# Step 3: Display results\n",
    "def show_results_route(job_id):\n",
    "    metadata = job_manager.get_job_metadata(job_id)\n",
    "    if metadata:\n",
    "        print(f\"Results for {metadata['file_info']['name']}\")\n",
    "        print(f\"Processed by: {metadata['plugin_info']['title']}\")\n",
    "        print(f\"Started: {metadata['started_at']}\")\n",
    "\n",
    "# Simulate the workflow\n",
    "print(\"=== Simulated Workflow ===\")\n",
    "start_job_route(\"job-abc\", \"meeting.mp3\", \"Whisper\")\n",
    "monitor_job_route(\"job-abc\")\n",
    "show_results_route(\"job-abc\")\n",
    "print(\"\\nSession state:\")\n",
    "session"
   ]
  },
  {
   "cell_type": "code",
   "execution_count": null,
   "id": "41446942",
   "metadata": {},
   "outputs": [],
   "source": []
  },
  {
   "cell_type": "code",
   "execution_count": null,
   "id": "de63eaf7",
   "metadata": {},
   "outputs": [],
   "source": []
  },
  {
   "cell_type": "code",
   "execution_count": null,
   "id": "4acda558",
   "metadata": {},
   "outputs": [],
   "source": []
  },
  {
   "cell_type": "code",
   "execution_count": null,
   "id": "b4beb604",
   "metadata": {},
   "outputs": [],
   "source": []
  },
  {
   "cell_type": "code",
   "execution_count": null,
   "id": "d31a897b",
   "metadata": {},
   "outputs": [],
   "source": []
  },
  {
   "cell_type": "code",
   "execution_count": null,
   "id": "7a9d3a4f",
   "metadata": {},
   "outputs": [],
   "source": [
    "#| hide\n",
    "import nbdev; nbdev.nbdev_export()"
   ]
  }
 ],
 "metadata": {
  "kernelspec": {
   "display_name": "python3",
   "language": "python",
   "name": "python3"
  }
 },
 "nbformat": 4,
 "nbformat_minor": 5
}
