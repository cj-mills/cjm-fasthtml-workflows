{
 "cells": [
  {
   "cell_type": "markdown",
   "id": "b6703dcb",
   "metadata": {},
   "source": [
    "# WorkflowSession\n",
    "\n",
    "> Namespaced workflow state management within FastHTML sessions."
   ]
  },
  {
   "cell_type": "code",
   "execution_count": null,
   "id": "896abc01",
   "metadata": {},
   "outputs": [],
   "source": [
    "#| default_exp core.workflow_session"
   ]
  },
  {
   "cell_type": "code",
   "execution_count": null,
   "id": "a7da383f",
   "metadata": {},
   "outputs": [],
   "source": [
    "#| hide\n",
    "from nbdev.showdoc import *"
   ]
  },
  {
   "cell_type": "code",
   "execution_count": null,
   "id": "62d32f84",
   "metadata": {},
   "outputs": [],
   "source": [
    "#| export\n",
    "from typing import Dict, Any"
   ]
  },
  {
   "cell_type": "markdown",
   "id": "6fb21674",
   "metadata": {},
   "source": [
    "## WorkflowSession Class"
   ]
  },
  {
   "cell_type": "markdown",
   "id": "1h86zy0xwms",
   "metadata": {},
   "source": [
    "The `WorkflowSession` class provides a scoped view of FastHTML session data for a specific workflow. This prevents key collisions when multiple workflows are active in the same application.\n",
    "\n",
    "Each workflow gets its own namespace within the session, making it easy to manage multi-step processes without worrying about overwriting data from other workflows."
   ]
  },
  {
   "cell_type": "code",
   "execution_count": null,
   "id": "4d960a01",
   "metadata": {},
   "outputs": [],
   "source": [
    "#| export\n",
    "class WorkflowSession:\n",
    "    \"\"\"Manage workflow state within FastHTML sessions with proper namespacing.\"\"\"\n",
    "\n",
    "    def __init__(\n",
    "        self, \n",
    "        sess:Any, # FastHTML session object (from route handler parameter)\n",
    "        workflow_id:str # Unique identifier for this workflow (e.g., \"registration\", \"checkout\")\n",
    "    ):\n",
    "        \"\"\"Initialize workflow session wrapper.\"\"\"\n",
    "        self.sess = sess\n",
    "        self.workflow_id = workflow_id\n",
    "        self._prefix = f\"workflow_{workflow_id}_\"\n",
    "\n",
    "    def _make_key(\n",
    "        self, \n",
    "        key:str # Key name within workflow namespace\n",
    "    ) -> str: # Namespaced session key\n",
    "        \"\"\"Create namespaced session key.\"\"\"\n",
    "        return f\"{self._prefix}{key}\"\n",
    "\n",
    "    def set(\n",
    "        self, \n",
    "        key:str, # Key name within this workflow namespace\n",
    "        value:Any # Value to store (must be JSON-serializable for session storage)\n",
    "    ) -> None:\n",
    "        \"\"\"Store value in workflow session.\"\"\"\n",
    "        self.sess[self._make_key(key)] = value\n",
    "\n",
    "    def get(\n",
    "        self, \n",
    "        key:str, # Key name within this workflow namespace\n",
    "        default:Any=None # Default value if key not found\n",
    "    ) -> Any: # Stored value or default\n",
    "        \"\"\"Retrieve value from workflow session.\"\"\"\n",
    "        return self.sess.get(self._make_key(key), default)\n",
    "\n",
    "    def delete(\n",
    "        self, \n",
    "        key:str # Key name within this workflow namespace\n",
    "    ) -> None:\n",
    "        \"\"\"Remove value from workflow session.\"\"\"\n",
    "        full_key = self._make_key(key)\n",
    "        if full_key in self.sess:\n",
    "            del self.sess[full_key]\n",
    "\n",
    "    def clear(self) -> None:\n",
    "        \"\"\"Clear all data for this workflow from session.\"\"\"\n",
    "        keys_to_delete = [k for k in self.sess.keys() if k.startswith(self._prefix)]\n",
    "        for key in keys_to_delete:\n",
    "            del self.sess[key]\n",
    "\n",
    "    def get_all(self) -> Dict[str, Any]: # Dictionary mapping original keys to their values\n",
    "        \"\"\"Get all workflow data as a dictionary with original (unprefixed) keys.\"\"\"\n",
    "        result = {}\n",
    "        prefix_len = len(self._prefix)\n",
    "        for key, value in self.sess.items():\n",
    "            if key.startswith(self._prefix):\n",
    "                original_key = key[prefix_len:]\n",
    "                result[original_key] = value\n",
    "        return result\n",
    "\n",
    "    def has(\n",
    "        self, \n",
    "        key:str # Key name within this workflow namespace\n",
    "    ) -> bool: # True if key exists, False otherwise\n",
    "        \"\"\"Check if key exists in workflow session.\"\"\"\n",
    "        return self._make_key(key) in self.sess"
   ]
  },
  {
   "cell_type": "markdown",
   "id": "81c4b37e",
   "metadata": {},
   "source": [
    "## Usage Examples"
   ]
  },
  {
   "cell_type": "markdown",
   "id": "xn358bza8xr",
   "metadata": {},
   "source": [
    "These examples demonstrate how to use `WorkflowSession` with a mock session object. In a real FastHTML application, the `sess` parameter is automatically provided by the framework."
   ]
  },
  {
   "cell_type": "code",
   "execution_count": null,
   "id": "11e4f53d",
   "metadata": {},
   "outputs": [
    {
     "data": {
      "text/plain": [
       "<__main__.WorkflowSession>"
      ]
     },
     "execution_count": null,
     "metadata": {},
     "output_type": "execute_result"
    }
   ],
   "source": [
    "# Create a mock session (in FastHTML, this is provided automatically)\n",
    "mock_session = {}\n",
    "\n",
    "# Create workflow session for a registration workflow\n",
    "workflow = WorkflowSession(mock_session, \"registration\")\n",
    "workflow"
   ]
  },
  {
   "cell_type": "code",
   "execution_count": null,
   "id": "69oumpgd6nu",
   "metadata": {},
   "outputs": [
    {
     "data": {
      "text/plain": [
       "{'workflow_registration_email': 'user@example.com',\n",
       " 'workflow_registration_username': 'john_doe',\n",
       " 'workflow_registration_step': 2}"
      ]
     },
     "execution_count": null,
     "metadata": {},
     "output_type": "execute_result"
    }
   ],
   "source": [
    "# Store some values\n",
    "workflow.set(\"email\", \"user@example.com\")\n",
    "workflow.set(\"username\", \"john_doe\")\n",
    "workflow.set(\"step\", 2)\n",
    "\n",
    "# Show the underlying session (note the prefixed keys)\n",
    "mock_session"
   ]
  },
  {
   "cell_type": "code",
   "execution_count": null,
   "id": "qgqdq1o27p",
   "metadata": {},
   "outputs": [
    {
     "name": "stdout",
     "output_type": "stream",
     "text": [
      "Email: user@example.com\n",
      "Username: john_doe\n"
     ]
    }
   ],
   "source": [
    "# Retrieve values\n",
    "email = workflow.get(\"email\")\n",
    "username = workflow.get(\"username\")\n",
    "print(f\"Email: {email}\")\n",
    "print(f\"Username: {username}\")"
   ]
  },
  {
   "cell_type": "code",
   "execution_count": null,
   "id": "0uz7a9u6rp3",
   "metadata": {},
   "outputs": [
    {
     "name": "stdout",
     "output_type": "stream",
     "text": [
      "All workflow data:\n"
     ]
    },
    {
     "data": {
      "text/plain": [
       "{'email': 'user@example.com', 'username': 'john_doe', 'step': 2}"
      ]
     },
     "execution_count": null,
     "metadata": {},
     "output_type": "execute_result"
    }
   ],
   "source": [
    "# Get all workflow data\n",
    "all_data = workflow.get_all()\n",
    "print(\"All workflow data:\")\n",
    "all_data"
   ]
  },
  {
   "cell_type": "code",
   "execution_count": null,
   "id": "9e16cc3f",
   "metadata": {},
   "outputs": [
    {
     "name": "stdout",
     "output_type": "stream",
     "text": [
      "Has email: True\n",
      "Has password: False\n"
     ]
    }
   ],
   "source": [
    "# Check if key exists\n",
    "has_email = workflow.has(\"email\")\n",
    "has_password = workflow.has(\"password\")\n",
    "print(f\"Has email: {has_email}\")\n",
    "print(f\"Has password: {has_password}\")"
   ]
  },
  {
   "cell_type": "code",
   "execution_count": null,
   "id": "m8soprrlcf8",
   "metadata": {},
   "outputs": [
    {
     "name": "stdout",
     "output_type": "stream",
     "text": [
      "Registration step: 2\n",
      "Checkout step: 1\n",
      "\n",
      "Session now contains both workflows:\n"
     ]
    },
    {
     "data": {
      "text/plain": [
       "{'workflow_registration_email': 'user@example.com',\n",
       " 'workflow_registration_username': 'john_doe',\n",
       " 'workflow_registration_step': 2,\n",
       " 'workflow_checkout_step': 1,\n",
       " 'workflow_checkout_cart_total': 99.99}"
      ]
     },
     "execution_count": null,
     "metadata": {},
     "output_type": "execute_result"
    }
   ],
   "source": [
    "# Create a second workflow in the same session - no collision!\n",
    "checkout_workflow = WorkflowSession(mock_session, \"checkout\")\n",
    "checkout_workflow.set(\"step\", 1)  # Same key name, different workflow\n",
    "checkout_workflow.set(\"cart_total\", 99.99)\n",
    "\n",
    "print(f\"Registration step: {workflow.get('step')}\")\n",
    "print(f\"Checkout step: {checkout_workflow.get('step')}\")\n",
    "print(f\"\\nSession now contains both workflows:\")\n",
    "mock_session"
   ]
  },
  {
   "cell_type": "code",
   "execution_count": null,
   "id": "3a8c56f3",
   "metadata": {},
   "outputs": [
    {
     "name": "stdout",
     "output_type": "stream",
     "text": [
      "Step after deletion: Not found\n"
     ]
    },
    {
     "data": {
      "text/plain": [
       "{'email': 'user@example.com', 'username': 'john_doe'}"
      ]
     },
     "execution_count": null,
     "metadata": {},
     "output_type": "execute_result"
    }
   ],
   "source": [
    "# Delete a specific key\n",
    "workflow.delete(\"step\")\n",
    "print(f\"Step after deletion: {workflow.get('step', 'Not found')}\")\n",
    "workflow.get_all()"
   ]
  },
  {
   "cell_type": "code",
   "execution_count": null,
   "id": "5ad50uqtxtc",
   "metadata": {},
   "outputs": [
    {
     "name": "stdout",
     "output_type": "stream",
     "text": [
      "After clearing registration workflow:\n",
      "Registration data: {}\n",
      "Checkout data: {'step': 1, 'cart_total': 99.99}\n",
      "\n",
      "Session (checkout workflow still intact):\n"
     ]
    },
    {
     "data": {
      "text/plain": [
       "{'workflow_checkout_step': 1, 'workflow_checkout_cart_total': 99.99}"
      ]
     },
     "execution_count": null,
     "metadata": {},
     "output_type": "execute_result"
    }
   ],
   "source": [
    "# Clear all workflow data\n",
    "workflow.clear()\n",
    "print(\"After clearing registration workflow:\")\n",
    "print(f\"Registration data: {workflow.get_all()}\")\n",
    "print(f\"Checkout data: {checkout_workflow.get_all()}\")\n",
    "print(f\"\\nSession (checkout workflow still intact):\")\n",
    "mock_session"
   ]
  },
  {
   "cell_type": "code",
   "execution_count": null,
   "id": "ae2b423b",
   "metadata": {},
   "outputs": [
    {
     "name": "stdout",
     "output_type": "stream",
     "text": [
      "Value with default: default_value\n"
     ]
    }
   ],
   "source": [
    "# Using with default values\n",
    "empty_workflow = WorkflowSession({}, \"empty\")\n",
    "value = empty_workflow.get(\"nonexistent\", \"default_value\")\n",
    "print(f\"Value with default: {value}\")"
   ]
  },
  {
   "cell_type": "code",
   "execution_count": null,
   "id": "41446942",
   "metadata": {},
   "outputs": [],
   "source": []
  },
  {
   "cell_type": "code",
   "execution_count": null,
   "id": "de63eaf7",
   "metadata": {},
   "outputs": [],
   "source": []
  },
  {
   "cell_type": "code",
   "execution_count": null,
   "id": "4acda558",
   "metadata": {},
   "outputs": [],
   "source": []
  },
  {
   "cell_type": "code",
   "execution_count": null,
   "id": "b4beb604",
   "metadata": {},
   "outputs": [],
   "source": []
  },
  {
   "cell_type": "code",
   "execution_count": null,
   "id": "d31a897b",
   "metadata": {},
   "outputs": [],
   "source": []
  },
  {
   "cell_type": "code",
   "execution_count": null,
   "id": "7a9d3a4f",
   "metadata": {},
   "outputs": [],
   "source": [
    "#| hide\n",
    "import nbdev; nbdev.nbdev_export()"
   ]
  }
 ],
 "metadata": {
  "kernelspec": {
   "display_name": "python3",
   "language": "python",
   "name": "python3"
  }
 },
 "nbformat": 4,
 "nbformat_minor": 5
}
