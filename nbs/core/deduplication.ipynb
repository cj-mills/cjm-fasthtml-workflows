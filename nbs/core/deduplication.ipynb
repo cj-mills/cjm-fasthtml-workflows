{
 "cells": [
  {
   "cell_type": "markdown",
   "id": "b6703dcb",
   "metadata": {},
   "source": [
    "# DeduplicationTracker\n",
    "\n",
    "> Track one-time operations per job to prevent duplicates."
   ]
  },
  {
   "cell_type": "code",
   "execution_count": null,
   "id": "896abc01",
   "metadata": {},
   "outputs": [],
   "source": [
    "#| default_exp core.deduplication"
   ]
  },
  {
   "cell_type": "code",
   "execution_count": null,
   "id": "a7da383f",
   "metadata": {},
   "outputs": [],
   "source": [
    "#| hide\n",
    "from nbdev.showdoc import *"
   ]
  },
  {
   "cell_type": "code",
   "execution_count": null,
   "id": "62d32f84",
   "metadata": {},
   "outputs": [],
   "source": [
    "#| export\n",
    "from typing import Set, Callable, Optional, Any"
   ]
  },
  {
   "cell_type": "markdown",
   "id": "6fb21674",
   "metadata": {},
   "source": [
    "## DeduplicationTracker Class"
   ]
  },
  {
   "cell_type": "markdown",
   "id": "1h86zy0xwms",
   "metadata": {},
   "source": [
    "The `DeduplicationTracker` ensures that operations are performed exactly once per job within a user's session. This is useful for operations that should only happen once, such as:\n",
    "\n",
    "- Auto-saving results to disk\n",
    "- Sending email notifications\n",
    "- Logging completion events\n",
    "- Creating database records\n",
    "\n",
    "The tracker stores job IDs in the session, so tracking persists across requests but is scoped to each user."
   ]
  },
  {
   "cell_type": "code",
   "execution_count": null,
   "id": "4d960a01",
   "metadata": {},
   "outputs": [],
   "source": [
    "#| export\n",
    "class DeduplicationTracker:\n",
    "    \"\"\"Track one-time operations per job to prevent duplicates.\"\"\"\n",
    "\n",
    "    def __init__(\n",
    "        self, \n",
    "        sess:Any, # FastHTML session object\n",
    "        tracker_id:str # Unique identifier for this tracker (e.g., \"saved_jobs\", \"sent_notifications\")\n",
    "    ):\n",
    "        \"\"\"Initialize deduplication tracker.\"\"\"\n",
    "        self.sess = sess\n",
    "        self.tracker_id = tracker_id\n",
    "        self._key = f\"dedup_{tracker_id}\"\n",
    "\n",
    "    def _get_processed_set(self) -> Set[str]: # Set of processed job IDs\n",
    "        \"\"\"Get the set of processed job IDs from session.\"\"\"\n",
    "        # Session stores as list, we convert to set for O(1) lookup\n",
    "        processed_list = self.sess.get(self._key, [])\n",
    "        return set(processed_list)\n",
    "    \n",
    "    def _force_session_save(self) -> None:\n",
    "        \"\"\"Force session to be marked as modified and saved.\"\"\"\n",
    "        import time\n",
    "        # Update a timestamp to trigger session modification detection\n",
    "        # This ensures session middleware knows to save the session\n",
    "        self.sess[f\"__dedup_{self.tracker_id}_last_modified\"] = time.time()\n",
    "\n",
    "    def _save_processed_set(\n",
    "        self, \n",
    "        processed:Set[str] # Set of processed job IDs to save\n",
    "    ) -> None:\n",
    "        \"\"\"Save the set of processed job IDs to session.\"\"\"\n",
    "        # Convert set to list for JSON serialization\n",
    "        self.sess[self._key] = list(processed)\n",
    "        # Force session modification detection\n",
    "        self._force_session_save()\n",
    "\n",
    "    def is_processed(\n",
    "        self, \n",
    "        job_id:str # Unique job identifier\n",
    "    ) -> bool: # True if job has been marked as processed, False otherwise\n",
    "        \"\"\"Check if a job has been processed.\"\"\"\n",
    "        return job_id in self._get_processed_set()\n",
    "\n",
    "    def mark_processed(\n",
    "        self, \n",
    "        job_id:str # Unique job identifier\n",
    "    ) -> None:\n",
    "        \"\"\"Mark a job as processed.\"\"\"\n",
    "        processed = self._get_processed_set()\n",
    "        processed.add(job_id)\n",
    "        self._save_processed_set(processed)\n",
    "\n",
    "    def unmark_processed(\n",
    "        self, \n",
    "        job_id:str # Unique job identifier\n",
    "    ) -> None:\n",
    "        \"\"\"Remove processed mark from a job (allows reprocessing).\"\"\"\n",
    "        processed = self._get_processed_set()\n",
    "        processed.discard(job_id)\n",
    "        self._save_processed_set(processed)\n",
    "\n",
    "    def clear_all(self) -> None:\n",
    "        \"\"\"Clear all processed job IDs.\"\"\"\n",
    "        if self._key in self.sess:\n",
    "            del self.sess[self._key]\n",
    "        # Force session save after deletion\n",
    "        self._force_session_save()\n",
    "\n",
    "    def get_all_processed(self) -> Set[str]: # Set of job IDs that have been marked as processed\n",
    "        \"\"\"Get all processed job IDs.\"\"\"\n",
    "        return self._get_processed_set()"
   ]
  },
  {
   "cell_type": "markdown",
   "id": "81c4b37e",
   "metadata": {},
   "source": [
    "## Usage Examples"
   ]
  },
  {
   "cell_type": "markdown",
   "id": "xn358bza8xr",
   "metadata": {},
   "source": [
    "These examples demonstrate how to use `DeduplicationTracker` to prevent duplicate operations."
   ]
  },
  {
   "cell_type": "code",
   "execution_count": null,
   "id": "11e4f53d",
   "metadata": {},
   "outputs": [
    {
     "data": {
      "text/plain": [
       "<__main__.DeduplicationTracker>"
      ]
     },
     "execution_count": null,
     "metadata": {},
     "output_type": "execute_result"
    }
   ],
   "source": [
    "# Create a mock session\n",
    "mock_session = {}\n",
    "\n",
    "# Create a tracker for saved jobs\n",
    "tracker = DeduplicationTracker(mock_session, \"saved_jobs\")\n",
    "tracker"
   ]
  },
  {
   "cell_type": "code",
   "execution_count": null,
   "id": "69oumpgd6nu",
   "metadata": {},
   "outputs": [
    {
     "name": "stdout",
     "output_type": "stream",
     "text": [
      "Job-123 processed: False\n"
     ]
    }
   ],
   "source": [
    "# Check if job has been processed (initially false)\n",
    "is_processed = tracker.is_processed(\"job-123\")\n",
    "print(f\"Job-123 processed: {is_processed}\")"
   ]
  },
  {
   "cell_type": "code",
   "execution_count": null,
   "id": "qgqdq1o27p",
   "metadata": {},
   "outputs": [
    {
     "name": "stdout",
     "output_type": "stream",
     "text": [
      "Job-123 processed: True\n",
      "Session state: {'dedup_saved_jobs': ['job-123'], '__dedup_saved_jobs_last_modified': 1761793147.8636549}\n"
     ]
    }
   ],
   "source": [
    "# Mark job as processed\n",
    "tracker.mark_processed(\"job-123\")\n",
    "print(f\"Job-123 processed: {tracker.is_processed('job-123')}\")\n",
    "print(f\"Session state: {mock_session}\")"
   ]
  },
  {
   "cell_type": "code",
   "execution_count": null,
   "id": "0uz7a9u6rp3",
   "metadata": {},
   "outputs": [
    {
     "name": "stdout",
     "output_type": "stream",
     "text": [
      "All processed jobs: {'job-123', 'job-456', 'job-789'}\n"
     ]
    }
   ],
   "source": [
    "# Mark multiple jobs\n",
    "tracker.mark_processed(\"job-456\")\n",
    "tracker.mark_processed(\"job-789\")\n",
    "\n",
    "all_processed = tracker.get_all_processed()\n",
    "print(f\"All processed jobs: {all_processed}\")"
   ]
  },
  {
   "cell_type": "code",
   "execution_count": null,
   "id": "9e16cc3f",
   "metadata": {},
   "outputs": [
    {
     "name": "stdout",
     "output_type": "stream",
     "text": [
      "Job-456 processed: False\n",
      "Remaining: {'job-123', 'job-789'}\n"
     ]
    }
   ],
   "source": [
    "# Unmark a job (allow reprocessing)\n",
    "tracker.unmark_processed(\"job-456\")\n",
    "print(f\"Job-456 processed: {tracker.is_processed('job-456')}\")\n",
    "print(f\"Remaining: {tracker.get_all_processed()}\")"
   ]
  },
  {
   "cell_type": "code",
   "execution_count": null,
   "id": "m8soprrlcf8",
   "metadata": {},
   "outputs": [
    {
     "name": "stdout",
     "output_type": "stream",
     "text": [
      "After clearing: set()\n",
      "Session state: {'__dedup_saved_jobs_last_modified': 1761793147.915495}\n"
     ]
    }
   ],
   "source": [
    "# Clear all processed jobs\n",
    "tracker.clear_all()\n",
    "print(f\"After clearing: {tracker.get_all_processed()}\")\n",
    "print(f\"Session state: {mock_session}\")"
   ]
  },
  {
   "cell_type": "markdown",
   "id": "3a8c56f3",
   "metadata": {},
   "source": [
    "## Multiple Trackers"
   ]
  },
  {
   "cell_type": "markdown",
   "id": "5ad50uqtxtc",
   "metadata": {},
   "source": [
    "You can use multiple trackers in the same session for different types of operations:"
   ]
  },
  {
   "cell_type": "code",
   "execution_count": null,
   "id": "ae2b423b",
   "metadata": {},
   "outputs": [
    {
     "name": "stdout",
     "output_type": "stream",
     "text": [
      "Session with multiple trackers:\n",
      "  dedup_saved_jobs: ['job-001', 'job-002']\n",
      "  __dedup_saved_jobs_last_modified: 1761793147.9306018\n",
      "  dedup_sent_notifications: ['job-001']\n",
      "  __dedup_sent_notifications_last_modified: 1761793147.9306183\n",
      "  dedup_logged_events: ['job-003', 'job-001', 'job-002']\n",
      "  __dedup_logged_events_last_modified: 1761793147.9306488\n"
     ]
    }
   ],
   "source": [
    "session = {}\n",
    "\n",
    "# Tracker for saved jobs\n",
    "save_tracker = DeduplicationTracker(session, \"saved_jobs\")\n",
    "save_tracker.mark_processed(\"job-001\")\n",
    "save_tracker.mark_processed(\"job-002\")\n",
    "\n",
    "# Tracker for sent notifications\n",
    "notify_tracker = DeduplicationTracker(session, \"sent_notifications\")\n",
    "notify_tracker.mark_processed(\"job-001\")\n",
    "\n",
    "# Tracker for logged events\n",
    "log_tracker = DeduplicationTracker(session, \"logged_events\")\n",
    "log_tracker.mark_processed(\"job-001\")\n",
    "log_tracker.mark_processed(\"job-002\")\n",
    "log_tracker.mark_processed(\"job-003\")\n",
    "\n",
    "print(\"Session with multiple trackers:\")\n",
    "for key, value in session.items():\n",
    "    print(f\"  {key}: {value}\")"
   ]
  },
  {
   "cell_type": "code",
   "execution_count": null,
   "id": "kyhwvvcbuvp",
   "metadata": {},
   "outputs": [
    {
     "name": "stdout",
     "output_type": "stream",
     "text": [
      "Job-001 saved: True\n",
      "Job-001 notified: True\n",
      "Job-001 logged: True\n",
      "\n",
      "Job-002 saved: True\n",
      "Job-002 notified: False\n",
      "Job-002 logged: True\n"
     ]
    }
   ],
   "source": [
    "# Each tracker is independent\n",
    "print(f\"Job-001 saved: {save_tracker.is_processed('job-001')}\")\n",
    "print(f\"Job-001 notified: {notify_tracker.is_processed('job-001')}\")\n",
    "print(f\"Job-001 logged: {log_tracker.is_processed('job-001')}\")\n",
    "print(f\"\\nJob-002 saved: {save_tracker.is_processed('job-002')}\")\n",
    "print(f\"Job-002 notified: {notify_tracker.is_processed('job-002')}\")\n",
    "print(f\"Job-002 logged: {log_tracker.is_processed('job-002')}\")"
   ]
  },
  {
   "cell_type": "markdown",
   "id": "3j2qcvb3ha2",
   "metadata": {},
   "source": [
    "## Real-World Pattern"
   ]
  },
  {
   "cell_type": "markdown",
   "id": "7f54d57c",
   "metadata": {},
   "source": [
    "Here's a typical pattern for using the tracker to prevent duplicate saves:"
   ]
  },
  {
   "cell_type": "code",
   "execution_count": null,
   "id": "lme8w339qj",
   "metadata": {},
   "outputs": [
    {
     "name": "stdout",
     "output_type": "stream",
     "text": [
      "First call:\n",
      "  [DISK] Saving result for job-abc: {'text': 'Hello world'}\n",
      "  [SUCCESS] Job job-abc saved and marked\n",
      "\n",
      "Second call (duplicate):\n",
      "  [SKIP] Job job-abc already saved\n",
      "\n",
      "Third call (duplicate):\n",
      "  [SKIP] Job job-abc already saved\n",
      "\n",
      "Different job:\n",
      "  [DISK] Saving result for job-xyz: {'text': 'Goodbye world'}\n",
      "  [SUCCESS] Job job-xyz saved and marked\n",
      "\n",
      "Final session state:\n"
     ]
    },
    {
     "data": {
      "text/plain": [
       "{'dedup_saved_jobs': ['job-abc', 'job-xyz'],\n",
       " '__dedup_saved_jobs_last_modified': 1761793147.9616601}"
      ]
     },
     "execution_count": null,
     "metadata": {},
     "output_type": "execute_result"
    }
   ],
   "source": [
    "# Simulate a session\n",
    "user_session = {}\n",
    "\n",
    "def save_result_to_disk(job_id, data):\n",
    "    \"\"\"Simulated disk save operation.\"\"\"\n",
    "    print(f\"  [DISK] Saving result for {job_id}: {data}\")\n",
    "    # In real code: write to file, database, etc.\n",
    "\n",
    "def save_job_result_once(sess, job_id, data):\n",
    "    \"\"\"\n",
    "    Save job result to disk, ensuring it's only saved once.\n",
    "    \n",
    "    This prevents duplicate saves even if the route is called multiple times.\n",
    "    \"\"\"\n",
    "    tracker = DeduplicationTracker(sess, \"saved_jobs\")\n",
    "    \n",
    "    if tracker.is_processed(job_id):\n",
    "        print(f\"  [SKIP] Job {job_id} already saved\")\n",
    "        return\n",
    "    \n",
    "    try:\n",
    "        save_result_to_disk(job_id, data)\n",
    "        tracker.mark_processed(job_id)\n",
    "        print(f\"  [SUCCESS] Job {job_id} saved and marked\")\n",
    "    except Exception as e:\n",
    "        print(f\"  [ERROR] Failed to save job {job_id}: {e}\")\n",
    "        # Note: job is NOT marked as processed, so it can be retried\n",
    "\n",
    "# Simulate multiple calls (e.g., page refreshes, SSE polling, etc.)\n",
    "print(\"First call:\")\n",
    "save_job_result_once(user_session, \"job-abc\", {\"text\": \"Hello world\"})\n",
    "\n",
    "print(\"\\nSecond call (duplicate):\")\n",
    "save_job_result_once(user_session, \"job-abc\", {\"text\": \"Hello world\"})\n",
    "\n",
    "print(\"\\nThird call (duplicate):\")\n",
    "save_job_result_once(user_session, \"job-abc\", {\"text\": \"Hello world\"})\n",
    "\n",
    "print(\"\\nDifferent job:\")\n",
    "save_job_result_once(user_session, \"job-xyz\", {\"text\": \"Goodbye world\"})\n",
    "\n",
    "print(\"\\nFinal session state:\")\n",
    "user_session"
   ]
  },
  {
   "cell_type": "code",
   "execution_count": null,
   "id": "41446942",
   "metadata": {},
   "outputs": [],
   "source": []
  },
  {
   "cell_type": "code",
   "execution_count": null,
   "id": "de63eaf7",
   "metadata": {},
   "outputs": [],
   "source": []
  },
  {
   "cell_type": "code",
   "execution_count": null,
   "id": "4acda558",
   "metadata": {},
   "outputs": [],
   "source": []
  },
  {
   "cell_type": "code",
   "execution_count": null,
   "id": "b4beb604",
   "metadata": {},
   "outputs": [],
   "source": []
  },
  {
   "cell_type": "code",
   "execution_count": null,
   "id": "d31a897b",
   "metadata": {},
   "outputs": [],
   "source": []
  },
  {
   "cell_type": "code",
   "execution_count": null,
   "id": "7a9d3a4f",
   "metadata": {},
   "outputs": [],
   "source": [
    "#| hide\n",
    "import nbdev; nbdev.nbdev_export()"
   ]
  }
 ],
 "metadata": {
  "kernelspec": {
   "display_name": "python3",
   "language": "python",
   "name": "python3"
  }
 },
 "nbformat": 4,
 "nbformat_minor": 5
}
